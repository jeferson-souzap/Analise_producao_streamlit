{
 "cells": [
  {
   "cell_type": "code",
   "execution_count": 2,
   "metadata": {},
   "outputs": [],
   "source": [
    "import pandas as pd\n",
    "import numpy as np\n",
    "import matplotlib.pyplot as plt\n",
    "import seaborn as sns\n",
    "from pandas.tseries.offsets import MonthEnd\n",
    "from numerize.numerize import numerize\n",
    "import streamlit as st\n"
   ]
  },
  {
   "cell_type": "code",
   "execution_count": 3,
   "metadata": {},
   "outputs": [],
   "source": [
    "destino_concluido = r\"D:\\#Mega\\Jeferson - Dev\\02 - Linguagens\\Python\\Analise_producao_streamlit\\dados\\relatorio_intranet_concluido.csv\"\n",
    "destino_pendente = r\"D:\\#Mega\\Jeferson - Dev\\02 - Linguagens\\Python\\Analise_producao_streamlit\\dados\\relatorio_intranet_pendente.csv\"\n",
    "destino_prod_forno = r\"D:\\#Mega\\Jeferson - Dev\\02 - Linguagens\\Python\\Analise_producao_streamlit\\dados\\relatorio_forno.csv\"\n"
   ]
  },
  {
   "cell_type": "code",
   "execution_count": 7,
   "metadata": {},
   "outputs": [],
   "source": [
    "df_concluido = pd.read_csv(destino_concluido)\n",
    "\n",
    "df_concluido['Conclusão'] = pd.to_datetime(df_concluido['Conclusão'], errors='coerce')\n",
    "df_concluido['Entrada'] = pd.to_datetime(df_concluido['Entrada'], errors='coerce')\n",
    "\n",
    "df_pendente = pd.read_csv(destino_pendente)\n",
    "df_pendente['Conclusão'] = pd.to_datetime(df_pendente['Conclusão'], errors='coerce')\n",
    "df_pendente['Entrada'] = pd.to_datetime(df_pendente['Entrada'], errors='coerce')\n",
    "\n",
    "df_forno = pd.read_csv(destino_prod_forno)\n",
    "df_forno['Data'] = pd.to_datetime(df_forno['Data'], errors='coerce')\n",
    "df_forno['data2'] = pd.to_datetime(df_forno['data2'], errors='coerce')\n",
    "\n",
    "\n",
    "df_concluido['dia_n'] = df_concluido['Conclusão'].dt.day\n",
    "df_concluido['mes_n'] = df_concluido['Conclusão'].dt.month\n",
    "df_concluido['ano_n'] = df_concluido['Conclusão'].dt.year\n"
   ]
  },
  {
   "cell_type": "code",
   "execution_count": 10,
   "metadata": {},
   "outputs": [
    {
     "data": {
      "text/plain": [
       "0        PADRÃO\n",
       "1        PADRÃO\n",
       "2    ENGENHARIA\n",
       "3    ENGENHARIA\n",
       "4    ENGENHARIA\n",
       "Name: tipo_servico, dtype: object"
      ]
     },
     "execution_count": 10,
     "metadata": {},
     "output_type": "execute_result"
    }
   ],
   "source": [
    "df_concluido['tipo_servico'].head()"
   ]
  },
  {
   "cell_type": "code",
   "execution_count": 5,
   "metadata": {},
   "outputs": [
    {
     "name": "stdout",
     "output_type": "stream",
     "text": [
      "<class 'pandas.core.frame.DataFrame'>\n",
      "RangeIndex: 79 entries, 0 to 78\n",
      "Data columns (total 5 columns):\n",
      " #   Column              Non-Null Count  Dtype         \n",
      "---  ------              --------------  -----         \n",
      " 0   Data                79 non-null     datetime64[ns]\n",
      " 1   Pedidos concluidos  79 non-null     float64       \n",
      " 2   Pedidos_pendentes   79 non-null     float64       \n",
      " 3   Forno               79 non-null     float64       \n",
      " 4   Total Pedidos       79 non-null     float64       \n",
      "dtypes: datetime64[ns](1), float64(4)\n",
      "memory usage: 3.2 KB\n"
     ]
    }
   ],
   "source": [
    "def producao_forno():\n",
    "    df_resumo_forno = df_forno.groupby('data2')['Área (m2)'].sum().reset_index()\n",
    "    df_resumo_forno.rename(columns={'data2': 'Data', 'Área (m2)':'Área'}, inplace=True)\n",
    "\n",
    "    df_resumo_concluido = df_concluido.groupby('Entrada')['Pedido Área'].sum().reset_index()\n",
    "    df_resumo_concluido.rename(columns={'Entrada': 'Data', 'Pedido Área':'Área'}, inplace=True)\n",
    "\n",
    "    df_resumo_pendente = df_pendente.groupby('Entrada')['Pedido Área'].sum().reset_index()\n",
    "    df_resumo_pendente.rename(columns={'Entrada': 'Data', 'Pedido Área':'Área'}, inplace=True)\n",
    "\n",
    "    df_resumo_total01 = pd.merge(df_resumo_concluido, df_resumo_pendente, on='Data', how='outer')\n",
    "    df_resumo_total01.fillna(0, inplace=True)\n",
    "\n",
    "    df_resumo_total02 = pd.merge(df_resumo_total01, df_resumo_forno, on='Data', how='outer')\n",
    "    df_resumo_total02.fillna(0, inplace=True)\n",
    "\n",
    "    df_resumo_total02.rename(columns={'Área_x': 'Pedidos concluidos', 'Área_y':'Pedidos_pendentes', 'Área':'Forno'}, inplace=True)\n",
    "    df_resumo_total02['Total Pedidos'] = df_resumo_total02['Pedidos concluidos'] + df_resumo_total02['Pedidos_pendentes']\n",
    "\n",
    "    df_resumo_total02['Data'] = pd.to_datetime(df_resumo_total02['Data'], errors='coerce')\n",
    "\n",
    "    return df_resumo_total02\n",
    "\n",
    "df_resumo_total02 = producao_forno()\n",
    "df_resumo_total02.info()"
   ]
  },
  {
   "cell_type": "code",
   "execution_count": 8,
   "metadata": {},
   "outputs": [],
   "source": [
    "mes = 3\n",
    "ano = 2025\n",
    "\n",
    "df_prod_concluido = df_concluido[['dia_n', 'mes_n', 'ano_n', 'tipo_servico', 'Pedido Área']]\n",
    "prod_dia_filtro = df_prod_concluido[(df_prod_concluido['mes_n']== mes) & (df_prod_concluido['ano_n']== ano)]\n",
    "df_prod_dia = prod_dia_filtro.groupby('mes_n')['Pedido Área'].sum().reset_index()\n"
   ]
  },
  {
   "cell_type": "code",
   "execution_count": null,
   "metadata": {},
   "outputs": [
    {
     "data": {
      "text/plain": [
       "15840.05"
      ]
     },
     "execution_count": 9,
     "metadata": {},
     "output_type": "execute_result"
    }
   ],
   "source": [
    "total = df_prod_dia['Pedido Área'].iloc[0]\n",
    "total"
   ]
  },
  {
   "cell_type": "code",
   "execution_count": 12,
   "metadata": {},
   "outputs": [
    {
     "data": {
      "text/plain": [
       "6717.71"
      ]
     },
     "execution_count": 12,
     "metadata": {},
     "output_type": "execute_result"
    }
   ],
   "source": [
    "mes = 3\n",
    "ano = 2025\n",
    "\n",
    "serv = 'PADRÃO'\n",
    "\n",
    "df_prod_concluido = df_concluido[['dia_n', 'mes_n', 'ano_n', 'tipo_servico', 'Pedido Área']]\n",
    "prod_dia_filtro = df_prod_concluido[(df_prod_concluido['mes_n']== mes) & (df_prod_concluido['ano_n']== ano) & (df_prod_concluido['tipo_servico']== serv)]\n",
    "df_prod_dia = prod_dia_filtro.groupby('mes_n')['Pedido Área'].sum().reset_index()\n",
    "\n",
    "\n",
    "total_serv = df_prod_dia['Pedido Área'].iloc[0]\n",
    "total_serv"
   ]
  },
  {
   "cell_type": "code",
   "execution_count": 13,
   "metadata": {},
   "outputs": [
    {
     "data": {
      "text/plain": [
       "9122.04"
      ]
     },
     "execution_count": 13,
     "metadata": {},
     "output_type": "execute_result"
    }
   ],
   "source": [
    "mes = 3\n",
    "ano = 2025\n",
    "\n",
    "serv = 'ENGENHARIA'\n",
    "\n",
    "df_prod_concluido = df_concluido[['dia_n', 'mes_n', 'ano_n', 'tipo_servico', 'Pedido Área']]\n",
    "prod_dia_filtro = df_prod_concluido[(df_prod_concluido['mes_n']== mes) & (df_prod_concluido['ano_n']== ano) & (df_prod_concluido['tipo_servico']== serv)]\n",
    "df_prod_dia = prod_dia_filtro.groupby('mes_n')['Pedido Área'].sum().reset_index()\n",
    "\n",
    "\n",
    "total_serv = df_prod_dia['Pedido Área'].iloc[0]\n",
    "total_serv"
   ]
  },
  {
   "cell_type": "code",
   "execution_count": null,
   "metadata": {},
   "outputs": [],
   "source": []
  }
 ],
 "metadata": {
  "kernelspec": {
   "display_name": "venv",
   "language": "python",
   "name": "python3"
  },
  "language_info": {
   "codemirror_mode": {
    "name": "ipython",
    "version": 3
   },
   "file_extension": ".py",
   "mimetype": "text/x-python",
   "name": "python",
   "nbconvert_exporter": "python",
   "pygments_lexer": "ipython3",
   "version": "3.11.5"
  }
 },
 "nbformat": 4,
 "nbformat_minor": 4
}
