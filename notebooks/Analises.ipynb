{
 "cells": [
  {
   "cell_type": "code",
   "execution_count": 3,
   "metadata": {},
   "outputs": [],
   "source": [
    "import pandas as pd"
   ]
  },
  {
   "cell_type": "code",
   "execution_count": 12,
   "metadata": {},
   "outputs": [],
   "source": [
    "import pandas as pd\n",
    "\n",
    "# Caminho do arquivo Excel\n",
    "arquivo = r\"C:\\Users\\pcp\\OneDrive\\#jeff\\Dev\\Analise_Producao\\dados\\relatorio_modelo_v01.xlsx\"\n",
    "\n",
    "# Ler as abas da planilha\n",
    "aba_pendente = pd.read_excel(arquivo, sheet_name='relatorio_intranet_pendente')\n",
    "aba_concluido = pd.read_excel(arquivo, sheet_name='relatorio_intranet_concluido')\n",
    "\n",
    "destino_concluido = r\"C:\\Users\\pcp\\OneDrive\\#jeff\\Dev\\Analise_Producao\\dados\\relatorio_intranet_concluido.csv\"\n",
    "destino_pendente = r\"C:\\Users\\pcp\\OneDrive\\#jeff\\Dev\\Analise_Producao\\dados\\relatorio_intranet_pendente.csv\"\n",
    "\n",
    "aba_concluido.to_csv(destino_concluido, index=False, encoding='utf-8')\n",
    "aba_pendente.to_csv(destino_pendente, index=False, encoding='utf-8')\n"
   ]
  },
  {
   "cell_type": "code",
   "execution_count": 17,
   "metadata": {},
   "outputs": [],
   "source": [
    "df = pd.read_csv(destino_concluido)\n",
    "\n",
    "df['Conclusão'] = pd.to_datetime(df['Conclusão'], errors='coerce')\n",
    "df['Entrada'] = pd.to_datetime(df['Entrada'], errors='coerce')\n",
    "\n",
    "\n",
    "\n"
   ]
  },
  {
   "cell_type": "code",
   "execution_count": 16,
   "metadata": {},
   "outputs": [
    {
     "name": "stdout",
     "output_type": "stream",
     "text": [
      "<class 'pandas.core.frame.DataFrame'>\n",
      "RangeIndex: 9902 entries, 0 to 9901\n",
      "Data columns (total 34 columns):\n",
      " #   Column             Non-Null Count  Dtype         \n",
      "---  ------             --------------  -----         \n",
      " 0   Cliente            9902 non-null   object        \n",
      " 1   Pedido             9902 non-null   object        \n",
      " 2   Serviço            9902 non-null   object        \n",
      " 3   Status             9902 non-null   object        \n",
      " 4   Película?          9902 non-null   object        \n",
      " 5   Vidro              9902 non-null   object        \n",
      " 6   Pedido Área        9902 non-null   float64       \n",
      " 7   Pedido Peças       9902 non-null   int64         \n",
      " 8   Em Produção Área   9902 non-null   int64         \n",
      " 9   Em Produção Peças  9902 non-null   int64         \n",
      " 10  Corte Padrão?      4047 non-null   object        \n",
      " 11  Entrada            9902 non-null   object        \n",
      " 12  Financ Lib         154 non-null    object        \n",
      " 13  Técnico Reg        69 non-null     object        \n",
      " 14  Técnico Lib        67 non-null     object        \n",
      " 15   N/C               687 non-null    object        \n",
      " 16  Previsão           9901 non-null   object        \n",
      " 17  Urgência           127 non-null    object        \n",
      " 18  Atraso             0 non-null      float64       \n",
      " 19  Conclusão          9902 non-null   datetime64[ns]\n",
      " 20  Entrega            9645 non-null   object        \n",
      " 21  NFe                9540 non-null   float64       \n",
      " 22   Motorista         8167 non-null   object        \n",
      " 23   NC                0 non-null      float64       \n",
      " 24   Aplic Película?   9902 non-null   object        \n",
      " 25   Embarque?         9902 non-null   object        \n",
      " 26  dia_conclusao      9902 non-null   int64         \n",
      " 27  mes_conclusao      9902 non-null   int64         \n",
      " 28  ano_conclusao      9902 non-null   int64         \n",
      " 29  Rota               8612 non-null   object        \n",
      " 30  tipo_servico       9896 non-null   object        \n",
      " 31  num_cliente        9902 non-null   int64         \n",
      " 32  cont_id            9902 non-null   int64         \n",
      " 33  status02           9902 non-null   object        \n",
      "dtypes: datetime64[ns](1), float64(4), int64(8), object(21)\n",
      "memory usage: 2.6+ MB\n"
     ]
    }
   ],
   "source": [
    "df.info()"
   ]
  },
  {
   "cell_type": "code",
   "execution_count": 31,
   "metadata": {},
   "outputs": [],
   "source": [
    "data_minima = '2025-02-01'\n",
    "data_maxima = '2025-02-28'"
   ]
  },
  {
   "cell_type": "code",
   "execution_count": 8,
   "metadata": {},
   "outputs": [
    {
     "data": {
      "text/plain": [
       "np.int64(37240)"
      ]
     },
     "execution_count": 8,
     "metadata": {},
     "output_type": "execute_result"
    }
   ],
   "source": [
    "\n",
    "filtro_data = df[(df['Entrega']>= data_minima ) &(df['Entrada'] <= data_maxima)]\n",
    "total_unidade = filtro_data['Pedido Peças'].sum()\n",
    "total_unidade"
   ]
  },
  {
   "cell_type": "code",
   "execution_count": 32,
   "metadata": {},
   "outputs": [
    {
     "name": "stdout",
     "output_type": "stream",
     "text": [
      "20620.94\n"
     ]
    }
   ],
   "source": [
    "filtro_area_concluida = df[(df['Conclusão'] >= data_minima) & (df['Conclusão'] <= data_maxima)]\n",
    "total_area_concluida = filtro_area_concluida['Pedido Área'].sum()\n",
    "\n",
    "print(f'{total_area_concluida:.2f}')"
   ]
  },
  {
   "cell_type": "code",
   "execution_count": null,
   "metadata": {},
   "outputs": [],
   "source": []
  },
  {
   "cell_type": "code",
   "execution_count": null,
   "metadata": {},
   "outputs": [],
   "source": []
  },
  {
   "cell_type": "code",
   "execution_count": null,
   "metadata": {},
   "outputs": [],
   "source": []
  },
  {
   "cell_type": "code",
   "execution_count": null,
   "metadata": {},
   "outputs": [],
   "source": []
  }
 ],
 "metadata": {
  "kernelspec": {
   "display_name": ".venv",
   "language": "python",
   "name": "python3"
  },
  "language_info": {
   "codemirror_mode": {
    "name": "ipython",
    "version": 3
   },
   "file_extension": ".py",
   "mimetype": "text/x-python",
   "name": "python",
   "nbconvert_exporter": "python",
   "pygments_lexer": "ipython3",
   "version": "3.13.2"
  }
 },
 "nbformat": 4,
 "nbformat_minor": 2
}
